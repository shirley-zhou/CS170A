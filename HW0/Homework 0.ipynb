{
 "cells": [
  {
   "cell_type": "markdown",
   "metadata": {},
   "source": [
    "CS170 HW#0 -- Warmup\n",
    "==="
   ]
  },
  {
   "cell_type": "markdown",
   "metadata": {},
   "source": [
    "This assignment has 3 problems.  They are stated in a general way, and you can solve them with any tool you like -- Matlab, Octave, Python/Pylab, R, ...\n",
    "\n",
    "Please generate a PDF document with your answers clearly presented.  If you provide answers in this notebook, you can simply \"print\" it as PDF, and submit the PDF.\n",
    "\n",
    "The PDF will be due Tuesday, January 19, at 11:55pm."
   ]
  },
  {
   "cell_type": "markdown",
   "metadata": {},
   "source": [
    "Problem 1:  Visualization via Random Projections\n",
    "===\n",
    "\n",
    "One of the most fundamental problems facing data science is that it is impossible to visualize a dataset that has many features.  If we are given a $n \\times p$ dataset (matrix) $A$ in which the number of features $p$ is large, there is no obvious way to plot the data.\n",
    "\n",
    "Many _dimensionality reduction_ algorithms have been developed that attempt to find datasets that have lower values of $p$ but approximate $A$ in some way.  Although there are sophisticated algorithms, a competitive approach is to compute a ___random projection___ of $A$ into a few dimensions.  When the projection is into 2 or 3 dimensions, the result can be viewed in a plot.\n",
    "\n",
    "A ___random $k$-D projection___ of a $n \\times p$ dataset (matrix) $A$ is the result $(A \\, P)$ of multiplying $A$ on the right by a $p \\times k$ matrix $P$ of random values.\n",
    "\n",
    "The result is a $n \\times k$ matrix, assigning each row in $A$ a new pair of values $(x,y)$, and these can be interpreted as positions in a 2D plot.\n",
    "\n",
    "___Problem:___ write a function (in a language of your choice) that, given an input matrix $A$ of size $n \\times p$ and an integer $k>0$, produces a random $k$-D projection.\n",
    "\n",
    "Please use uniform random values in the matrix $P$.  Also divide the $j$-th column of $A$ by its total value, so that no single column determines the result.\n",
    "\n",
    "In your PDF document for this assignment, include your program with random 2D projections produced by your program, for each of two datasets (attached with this assignment):\n",
    "\n",
    "1. the Iris dataset.  (This can be read in Matlab with the ___csvread()___ function, and in Python with e.g. <tt>open('Iris.csv','r').read().split('\\n')</tt> or with the ___csv___ module.)\n",
    "\n",
    "2. the HallOfFame dataset of baseball players, many of whom were elected to the Hall of Fame.  (Scripts <tt>HallOfFame.m</tt> and <tt>HallOfFame.py</tt> are included for reading this in directly with Matlab or with Python.)\n",
    "\n",
    "In each plot, identify the ___greatest outlier___ -- the point with $(x,y)$ values that have the largest total $x+y$.  Print the row in the dataset whose projection is this outlier."
   ]
  },
  {
   "cell_type": "code",
   "execution_count": null,
   "metadata": {
    "collapsed": true
   },
   "outputs": [],
   "source": []
  },
  {
   "cell_type": "markdown",
   "metadata": {},
   "source": [
    "Problem 2:  Graphs as Matrices\n",
    "==\n",
    "\n",
    "The goal of this problem is to analyze the graph (actually, a numeric matrix $H$).  You can read it from one of the attached files  <tt>heroes.tsv</tt>, <tt>heroes.m</tt>, <tt>heroes.py</tt>.  (If you want to read the <tt>.tsv</tt> file, you can use the ___dlmread()___ in Matlab, and in Python either ad hoc parsing or the ___csv___ module.)\n",
    "\n",
    "This $H$ matrix represents a core part of Marvel's ___Hero Social Network___ (a graph of social connections between superheroes, from http://exposedata.com/marvel/).  The entry $h_{ij}$ of $H$ is the strength of edges, so higher values mean that heroes $i$ and $j$ appear together more often.\n",
    "\n",
    "The entire Marvel set of heroes is amazingly large; this dataset includes 206 heroes in the graph, obtained from the subset who appear in at least 50 comics.  Despite their frequent appearance, this matrix is still pretty sparse -- apparently superheroes don't have hundreds of friends.\n",
    "\n",
    "Notice that the network is undirected, so $H$ is real symmetric, and all entries of $H$ are nonnegative.\n",
    "\n",
    "1. Compute the ___eigenvalues___ of $H$ and plot them -- so that the $i$-th eigenvalue $\\lambda_i$ is plotted at position $(x,y) = (i, \\lambda_i)$.\n",
    "\n",
    "2. Find the ___largest eigenvalue___ $r$ of $H$.  Is it equal to the ___spectral norm___ $||H||_2$?\n",
    "\n",
    "2. Find the ___eigenvector___ ___e___ of $H$ that has this largest eigenvalue.  Plot the sequence of entries of the eigenvector, showing that they are nonnegative.  Which entry $i$ has the largest value?  (Who is the $i$-th hero?)\n",
    "\n",
    "3. Find the ___degree sequence___ ___d___ of integer values whose $i$-th entry $d_i$ is the _degree_ of the $i$-th node.  That is, $d_i$ is the number of other superheroes to which the $i$-th hero has nonzero edges.  Plot the sequence of degrees.  Which entry $i$ has the largest value?  (Who is the $i$-th hero?)\n",
    "\n",
    "4. Compute the ___graph laplacian___ $L = D - A$, where $D = diag({\\bf d})$ is the diagonal matrix determined by the degree sequence, and $A$ is the zero-one adjacency matrix for $H$ (The entries of $A$ are zero wherever they are zero in $H$, and are one wherever nonzero in $H$.  What is the number of zero eigenvalues of $L$, if we assume that all computed values below 1e-14 are zero?  (This is supposed to be the number of connected components in the graph.)\n",
    "\n",
    "5. The matrix $H$ is nonnegative and has nice connectivity properties, so the ___Perron-Frobenius Theorem___ holds for it.  For example, https://en.wikipedia.org/wiki/Perron%E2%80%93Frobenius_theorem says that we should have this property\n",
    "$\n",
    "(\\min_i ~ \\sum_j ~ h_{ij}) ~\\leq~ r ~\\leq~ (\\max_i ~ \\sum_j ~ h_{ij})\n",
    "$\n",
    "where $r$ is the maximum eigenvalue you found earlier.  What are the minimum and maximum values of the sums here?"
   ]
  },
  {
   "cell_type": "code",
   "execution_count": null,
   "metadata": {
    "collapsed": true
   },
   "outputs": [],
   "source": []
  },
  {
   "cell_type": "markdown",
   "metadata": {},
   "source": [
    "Problem 3:  Using Matrix Decompositions to Compute Things\n",
    "==\n",
    "\n",
    "___Matrix Computations___, by Gene Golub and Charles Van Loan, is a clasic text about algorithms for computation on matrices.\n",
    "\n",
    "This book is on the web at:  http://web.mit.edu/ehliu/Public/sclark/Golub%20G.H.,%20Van%20Loan%20C.F.-%20Matrix%20Computations.pdf\n",
    "\n",
    "Section 8.4 of this book is a discussion of ___Jacobi methods___ -- a class of methods for finding the eigendecomposition of a matrix.\n",
    "\n",
    "* Using sections 8.4.1 -- 8.4.4 of the book as a specification, develop an implementation of the ___Jacobi method that finds the eigenvalues and eigenvectors of a real symmetric matrix $A$___.\n",
    "\n",
    "* Test your implementation on the matrix $H$ in the previous problem.  Compare your eigenvalues, and first eigenvector, with the ones you obtained earlier.\n"
   ]
  },
  {
   "cell_type": "code",
   "execution_count": null,
   "metadata": {
    "collapsed": true
   },
   "outputs": [],
   "source": []
  }
 ],
 "metadata": {
  "kernelspec": {
   "display_name": "Python 3",
   "language": "python",
   "name": "python3"
  },
  "language_info": {
   "codemirror_mode": {
    "name": "ipython",
    "version": 3
   },
   "file_extension": ".py",
   "mimetype": "text/x-python",
   "name": "python",
   "nbconvert_exporter": "python",
   "pygments_lexer": "ipython3",
   "version": "3.5.1"
  }
 },
 "nbformat": 4,
 "nbformat_minor": 0
}
